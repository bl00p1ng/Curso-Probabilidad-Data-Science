{
  "nbformat": 4,
  "nbformat_minor": 0,
  "metadata": {
    "colab": {
      "name": "[Clase8]Distribucion_Binomial.ipynb",
      "provenance": [],
      "collapsed_sections": [],
      "include_colab_link": true
    },
    "kernelspec": {
      "name": "python3",
      "display_name": "Python 3"
    }
  },
  "cells": [
    {
      "cell_type": "markdown",
      "metadata": {
        "id": "view-in-github",
        "colab_type": "text"
      },
      "source": [
        "<a href=\"https://colab.research.google.com/github/bl00p1ng/Curso-Probabilidad-Data-Science/blob/main/%5BClase8%5DDistribucion_Binomial.ipynb\" target=\"_parent\"><img src=\"https://colab.research.google.com/assets/colab-badge.svg\" alt=\"Open In Colab\"/></a>"
      ]
    },
    {
      "cell_type": "code",
      "metadata": {
        "id": "mk5PbdQ60KHF"
      },
      "source": [
        "import numpy as np\n",
        "# Genrador aleatorio de números basado en la distribución binomial\n",
        "from numpy.random import binomial\n",
        "# Implementar la función binomial rápidamente\n",
        "from scipy.stats import binom\n",
        "from math import factorial\n",
        "import matplotlib.pyplot as plt"
      ],
      "execution_count": 1,
      "outputs": []
    },
    {
      "cell_type": "markdown",
      "metadata": {
        "id": "j0ZPLw1C275z"
      },
      "source": [
        "## Secuencias de eventos tipo Bernoulli\n",
        "\n",
        "$$\n",
        "P(k, n; p) = {n \\choose k} p^k (1-p)^{n-k} = \\frac{n!}{k!(n-k)!}p^k (1-p)^{n-k}\n",
        "$$"
      ]
    },
    {
      "cell_type": "markdown",
      "metadata": {
        "id": "GnJewkf_11zk"
      },
      "source": [
        "## Fórmula implementada manualmente en código:"
      ]
    },
    {
      "cell_type": "code",
      "metadata": {
        "id": "zV3MBWjh3q1I"
      },
      "source": [
        "def func_binomial(k, n, p):\n",
        "    return factorial(n) / (factorial(k) * factorial(n - k)) * pow(p, k) * pow(1 - p, n - k)"
      ],
      "execution_count": 2,
      "outputs": []
    },
    {
      "cell_type": "code",
      "metadata": {
        "id": "1zz8o3qp4SaV",
        "colab": {
          "base_uri": "https://localhost:8080/"
        },
        "outputId": "d51610ae-f24e-4ac1-c68e-b39cd8939099"
      },
      "source": [
        "func_binomial(2, 3, 0.5)"
      ],
      "execution_count": 3,
      "outputs": [
        {
          "output_type": "execute_result",
          "data": {
            "text/plain": [
              "0.375"
            ]
          },
          "metadata": {
            "tags": []
          },
          "execution_count": 3
        }
      ]
    },
    {
      "cell_type": "markdown",
      "metadata": {
        "id": "TkaDMdbF4TW1"
      },
      "source": [
        "## Usando `binom()` de Scipy.\n",
        "\n",
        "El **primer parámetro** que recibe `binom()` es el **número de intentos**.\n",
        "\n",
        "El **segundo parámetro** es la **probabilidad**.\n",
        "\n",
        "`dist.pmf()`: densidad de probabilidad (_Probability mass function_). El parámetro que recibe especifica la cantidad de exitos."
      ]
    },
    {
      "cell_type": "code",
      "metadata": {
        "colab": {
          "base_uri": "https://localhost:8080/"
        },
        "id": "M30R9Per4FG1",
        "outputId": "f6a8aa7d-8ddc-4563-eb08-f02fde4bd971"
      },
      "source": [
        "dist = binom(3, 0.5)\n",
        "dist.pmf(2)"
      ],
      "execution_count": 4,
      "outputs": [
        {
          "output_type": "execute_result",
          "data": {
            "text/plain": [
              "0.375"
            ]
          },
          "metadata": {
            "tags": []
          },
          "execution_count": 4
        }
      ]
    },
    {
      "cell_type": "markdown",
      "metadata": {
        "id": "U6RH83Vfp5Jh"
      },
      "source": [
        "## Validación del ejercicio hecho a mano\n",
        "\n",
        "$$\n",
        "P(k\\leq 2, n=3, p=1/2) = \\sum_{k=0}^2 \\left[ \\frac{n!}{k!(n-k)!}p^k (1-p)^{n-k} \\right] = \\frac{7}{8}\n",
        "$$\n"
      ]
    },
    {
      "cell_type": "markdown",
      "metadata": {
        "id": "hBRYq_XM6j2h"
      },
      "source": [
        "`dist.cdf()`: permite calcular la función de densidad acumulada (_Cumulative density function_).\n",
        "\n",
        "El parámetro `2` indica que se calcule con 2 o menos caras."
      ]
    },
    {
      "cell_type": "code",
      "metadata": {
        "id": "X6pS-e1k3E6D",
        "colab": {
          "base_uri": "https://localhost:8080/"
        },
        "outputId": "f229dc62-f717-4380-8db2-d7ba50a43cd4"
      },
      "source": [
        "dist.cdf(2)"
      ],
      "execution_count": 5,
      "outputs": [
        {
          "output_type": "execute_result",
          "data": {
            "text/plain": [
              "0.875"
            ]
          },
          "metadata": {
            "tags": []
          },
          "execution_count": 5
        }
      ]
    },
    {
      "cell_type": "markdown",
      "metadata": {
        "id": "HFfJnG06rO6I"
      },
      "source": [
        "## Simulaciones de secuencias con generadores aleatorios\n",
        "\n",
        "Los generadores aleatorios tienen como propósito simular muestras de datos que resultarían de muestreos en la vida real de procesos aleatorios como lanzar una moneda o un dado."
      ]
    },
    {
      "cell_type": "markdown",
      "metadata": {
        "id": "Y-wByxr-_toi"
      },
      "source": [
        "Simular el lanzamiento de una moneda 3 veces:"
      ]
    },
    {
      "cell_type": "code",
      "metadata": {
        "id": "DgvwIIkD2hbo",
        "colab": {
          "base_uri": "https://localhost:8080/"
        },
        "outputId": "6ca19e79-eb72-4501-8769-8b64c9c09094"
      },
      "source": [
        "p = 0.5   # Probabilidad\n",
        "n = 3  # Lanzamientos\n",
        "binomial(n, p)"
      ],
      "execution_count": 6,
      "outputs": [
        {
          "output_type": "execute_result",
          "data": {
            "text/plain": [
              "2"
            ]
          },
          "metadata": {
            "tags": []
          },
          "execution_count": 6
        }
      ]
    },
    {
      "cell_type": "code",
      "metadata": {
        "id": "v7hIwGTDs3Um"
      },
      "source": [
        "def plot_hist(num_trials):\n",
        "    # Resultados posibles del experimento (# caras)\n",
        "    values = [0, 1, 2, 3]\n",
        "    arr = []\n",
        "\n",
        "    for _ in range(num_trials):\n",
        "        arr.append(binomial(n, p))\n",
        "\n",
        "    sim_dist = np.unique(arr, return_counts=True)[1] / len(arr)\n",
        "    teorical_dist = [binom(3, 0.5).pmf(k) for k in values]\n",
        "\n",
        "    # Crear histograma con las probabilidades\n",
        "    plt.bar(values, sim_dist, color='red')\n",
        "    plt.bar(values, teorical_dist, alpha=0.5, color='blue')\n",
        "    plt.title(f'{num_trials} experimentos')\n",
        "    plt.show()"
      ],
      "execution_count": 13,
      "outputs": []
    },
    {
      "cell_type": "markdown",
      "metadata": {
        "id": "BeGFVyciApdB"
      },
      "source": [
        "`np.unique()`: identifica la cantidad de elementos únicos dentro de una lista y retorna una lista con dichos elementos.\n",
        "\n",
        "El parámetro `return_counts` hace que también se muestre una segunda lista con la cantidad de veces que se repite cada elemento."
      ]
    },
    {
      "cell_type": "code",
      "metadata": {
        "id": "qFlIUh5s0Jv_",
        "colab": {
          "base_uri": "https://localhost:8080/",
          "height": 809
        },
        "outputId": "89a34d66-c454-4874-9e1c-23d9f6bf8311"
      },
      "source": [
        "plot_hist(20)\n",
        "plot_hist(200)\n",
        "plot_hist(200000)"
      ],
      "execution_count": 14,
      "outputs": [
        {
          "output_type": "display_data",
          "data": {
            "image/png": "[encoded data removed]",
            "text/plain": [
              "<Figure size 432x288 with 1 Axes>"
            ]
          },
          "metadata": {
            "tags": [],
            "needs_background": "light"
          }
        },
        {
          "output_type": "display_data",
          "data": {
            "image/png": "[encoded data removed]",
            "text/plain": [
              "<Figure size 432x288 with 1 Axes>"
            ]
          },
          "metadata": {
            "tags": [],
            "needs_background": "light"
          }
        },
        {
          "output_type": "display_data",
          "data": {
            "image/png": "[encoded data removed]",
            "text/plain": [
              "<Figure size 432x288 with 1 Axes>"
            ]
          },
          "metadata": {
            "tags": [],
            "needs_background": "light"
          }
        }
      ]
    }
  ]
}