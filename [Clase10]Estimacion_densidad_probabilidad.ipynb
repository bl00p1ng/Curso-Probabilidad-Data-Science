{
  "nbformat": 4,
  "nbformat_minor": 0,
  "metadata": {
    "colab": {
      "name": "[Clase10]Estimacion_densidad_probabilidad.ipynb",
      "provenance": [],
      "collapsed_sections": [],
      "include_colab_link": true
    },
    "kernelspec": {
      "name": "python3",
      "display_name": "Python 3"
    }
  },
  "cells": [
    {
      "cell_type": "markdown",
      "metadata": {
        "id": "view-in-github",
        "colab_type": "text"
      },
      "source": [
        "<a href=\"https://colab.research.google.com/github/bl00p1ng/Curso-Probabilidad-Data-Science/blob/main/%5BClase10%5DEstimacion_densidad_probabilidad.ipynb\" target=\"_parent\"><img src=\"https://colab.research.google.com/assets/colab-badge.svg\" alt=\"Open In Colab\"/></a>"
      ]
    },
    {
      "cell_type": "code",
      "metadata": {
        "id": "fQ_FYZP1HAZn"
      },
      "source": [
        "import numpy as np\n",
        "from matplotlib import pyplot\n",
        "# Generador de números aleatorios básado en la distribución normal\n",
        "from numpy.random import normal\n",
        "from scipy.stats import norm"
      ],
      "execution_count": 1,
      "outputs": []
    },
    {
      "cell_type": "markdown",
      "metadata": {
        "id": "1lR3mTwWA7Sg"
      },
      "source": [
        "Generar datos artificiales para hacer las estimaciones:"
      ]
    },
    {
      "cell_type": "code",
      "metadata": {
        "id": "3K9Zno_vHWM_",
        "colab": {
          "base_uri": "https://localhost:8080/",
          "height": 265
        },
        "outputId": "b60fb684-f1c3-48a5-e460-961a1eacb0e8"
      },
      "source": [
        "sample = normal(size = 10000)\n",
        "\n",
        "pyplot.hist(sample, bins=30)\n",
        "pyplot.show()"
      ],
      "execution_count": 2,
      "outputs": [
        {
          "output_type": "display_data",
          "data": {
            "image/png": "[encoded data removed]",
            "text/plain": [
              "<Figure size 432x288 with 1 Axes>"
            ]
          },
          "metadata": {
            "tags": [],
            "needs_background": "light"
          }
        }
      ]
    },
    {
      "cell_type": "markdown",
      "metadata": {
        "id": "h5cuw05oH2E7"
      },
      "source": [
        "## Estimación paramétrica\n",
        "\n",
        "`loc`: promedio\n",
        "\n",
        "`scale`: desviación estándar."
      ]
    },
    {
      "cell_type": "code",
      "metadata": {
        "id": "M4jq92dZHY7X",
        "colab": {
          "base_uri": "https://localhost:8080/",
          "height": 265
        },
        "outputId": "8968e580-9c38-468e-c9db-954d8dc38cc9"
      },
      "source": [
        "sample = normal(loc=50, scale=5, size=10000)  # mu = 50, sigma = 5\n",
        "\n",
        "# Forzar los parámetros de la distribución normal\n",
        "mu = sample.mean()\n",
        "sigma = sample.std()\n",
        "\n",
        "dist = norm(mu, sigma)\n",
        "\n",
        "# Valores sobre los que se va a evaluar la función teórica\n",
        "values = [value for value in range(30, 70)]\n",
        "\n",
        "# Calcular probabilidades de los valores anteriores\n",
        "probabilities = [dist.pdf(value) for value in values]\n",
        "\n",
        "# Graficar ambas distribuciones para compararlas\n",
        "pyplot.hist(sample, bins=30, density=True)\n",
        "pyplot.plot(values, probabilities)\n",
        "pyplot.show()"
      ],
      "execution_count": 6,
      "outputs": [
        {
          "output_type": "display_data",
          "data": {
            "image/png": "[encoded data removed]",
            "text/plain": [
              "<Figure size 432x288 with 1 Axes>"
            ]
          },
          "metadata": {
            "tags": [],
            "needs_background": "light"
          }
        }
      ]
    },
    {
      "cell_type": "markdown",
      "metadata": {
        "id": "yufGLB8qJEb0"
      },
      "source": [
        "# Estimación no paramétrica\n",
        "\n",
        "`Kernel Density estimation` \n",
        "* [parámetro de suavizado]: smoothing parameter \n",
        "* [función base]: basis function\n",
        "\n",
        "https://scikit-learn.org/stable/modules/density.html\n"
      ]
    },
    {
      "cell_type": "code",
      "metadata": {
        "id": "AU7_H7lpIDKv"
      },
      "source": [
        "from numpy import hstack  # Permite juntar arrays\n",
        "from sklearn.neighbors import KernelDensity\n",
        "\n",
        "# Construir la distribución bimodal\n",
        "sample1 = normal(loc=20, scale=5, size=300)\n",
        "sample2 = normal(loc=40, scale=5, size=700)\n",
        "sample = hstack((sample1, sample2))"
      ],
      "execution_count": 8,
      "outputs": []
    },
    {
      "cell_type": "markdown",
      "metadata": {
        "id": "oFR4anviRKT2"
      },
      "source": [
        "Creando el modelo con Scikit Learn:\n",
        "\n",
        "`bandwidth` es el parámetro de suavizado.\n",
        "\n",
        "`kernel` es la función base."
      ]
    },
    {
      "cell_type": "code",
      "metadata": {
        "id": "SugfzIFjJkfa",
        "colab": {
          "base_uri": "https://localhost:8080/"
        },
        "outputId": "9d09f41e-6595-48d3-d627-95091ce21af2"
      },
      "source": [
        "model = KernelDensity(bandwidth=2, kernel='gaussian')\n",
        "sample = sample.reshape((len(sample), 1))\n",
        "model.fit(sample)"
      ],
      "execution_count": 10,
      "outputs": [
        {
          "output_type": "execute_result",
          "data": {
            "text/plain": [
              "KernelDensity(algorithm='auto', atol=0, bandwidth=2, breadth_first=True,\n",
              "              kernel='gaussian', leaf_size=40, metric='euclidean',\n",
              "              metric_params=None, rtol=0)"
            ]
          },
          "metadata": {
            "tags": []
          },
          "execution_count": 10
        }
      ]
    },
    {
      "cell_type": "markdown",
      "metadata": {
        "id": "yH0LGzaNUpwD"
      },
      "source": [
        "Se usa la **probabilidad logarítmica** porque para el computador es más cómodo trabajar con logaritmos. Después de que se hace dicho computo se usa la exponecial para invertir las probabilidades y obtener los valores originales"
      ]
    },
    {
      "cell_type": "code",
      "metadata": {
        "colab": {
          "base_uri": "https://localhost:8080/",
          "height": 265
        },
        "id": "5H3w9_HER6hd",
        "outputId": "a44a4499-0c5d-45a6-d893-10a09d175c83"
      },
      "source": [
        "values = np.asarray([value for value in range(1, 60)])\n",
        "values = values.reshape((len(values), 1))\n",
        "probabilities = model.score_samples(values)  # Probabilidad logarítmica\n",
        "probabilities = np.exp(probabilities)  # Inversión de probabilidad\n",
        "\n",
        "pyplot.hist(sample, bins=50, density=True)\n",
        "pyplot.plot(values, probabilities)\n",
        "pyplot.show()"
      ],
      "execution_count": 12,
      "outputs": [
        {
          "output_type": "display_data",
          "data": {
            "image/png": "[encoded data removed]",
            "text/plain": [
              "<Figure size 432x288 with 1 Axes>"
            ]
          },
          "metadata": {
            "tags": [],
            "needs_background": "light"
          }
        }
      ]
    }
  ]
}